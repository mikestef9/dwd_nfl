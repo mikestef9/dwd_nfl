{
  "nbformat": 4,
  "nbformat_minor": 0,
  "metadata": {
    "colab": {
      "name": "DWD_Team_E.ipynb",
      "version": "0.3.2",
      "views": {},
      "default_view": {},
      "provenance": [],
      "collapsed_sections": []
    },
    "kernelspec": {
      "name": "python3",
      "display_name": "Python 3"
    }
  },
  "cells": [
    {
      "metadata": {
        "id": "i1gVfHr8A9Oi",
        "colab_type": "text"
      },
      "cell_type": "markdown",
      "source": [
        "# Dealing with Data — Team E\n",
        "\n",
        "##Football and Weather Analysis from the 2017 NFL Season"
      ]
    },
    {
      "metadata": {
        "id": "bdH3SQu3FLm-",
        "colab_type": "text"
      },
      "cell_type": "markdown",
      "source": [
        "# Setup and Preliminaries"
      ]
    },
    {
      "metadata": {
        "id": "yaC4GkjUHBUc",
        "colab_type": "text"
      },
      "cell_type": "markdown",
      "source": [
        "Install extra dependencies, import requirements and setup plotting"
      ]
    },
    {
      "metadata": {
        "id": "YrcFug1XUttm",
        "colab_type": "code",
        "colab": {
          "autoexec": {
            "startup": false,
            "wait_interval": 0
          }
        }
      },
      "cell_type": "code",
      "source": [
        "# install dependencies for matplotlib Basemap\n",
        "\n",
        "!apt-get install libgeos-dev\n",
        "!pip install https://github.com/matplotlib/basemap/archive/master.zip"
      ],
      "execution_count": 0,
      "outputs": []
    },
    {
      "metadata": {
        "id": "RHWVbDXBBDmp",
        "colab_type": "code",
        "colab": {
          "autoexec": {
            "startup": false,
            "wait_interval": 0
          }
        }
      },
      "cell_type": "code",
      "source": [
        "# Render our plots inline\n",
        "%matplotlib inline\n",
        "%config InlineBackend.figure_format = 'retina'\n",
        "\n",
        "# Import all requirements\n",
        "import pandas as pd\n",
        "import numpy as np\n",
        "import matplotlib\n",
        "import matplotlib.pyplot as plt\n",
        "import seaborn as sns\n",
        "import requests\n",
        "from google.colab import files\n",
        "\n",
        "# Make the graphs a bit bigger\n",
        "matplotlib.style.use(['seaborn-talk', 'seaborn-ticks', 'seaborn-whitegrid'])\n",
        "plt.style.use('seaborn-notebook')"
      ],
      "execution_count": 0,
      "outputs": []
    },
    {
      "metadata": {
        "id": "Ai6fMzRcG23k",
        "colab_type": "text"
      },
      "cell_type": "markdown",
      "source": [
        "# Download and load our data"
      ]
    },
    {
      "metadata": {
        "id": "oJMkUGwgG5nl",
        "colab_type": "text"
      },
      "cell_type": "markdown",
      "source": [
        "Download our 2017 NFL Season datasets from github repositories, load it into a dataframes, and clean up where necessary"
      ]
    },
    {
      "metadata": {
        "id": "9GNrySbSG78R",
        "colab_type": "code",
        "colab": {
          "autoexec": {
            "startup": false,
            "wait_interval": 0
          }
        }
      },
      "cell_type": "code",
      "source": [
        "# nfl play by play dataset\n",
        "nfl_pbp_2017 = pd.read_csv('https://raw.githubusercontent.com/mstefaniak10/dwd_nfl/master/pbp_2017.csv', low_memory=False)\n",
        "nfl_pbp_2017['Date'] = pd.to_datetime(nfl_pbp_2017['Date'], format='%Y-%m-%d')\n",
        "\n",
        "# nfl game outcomes dataset with weather data and attendance\n",
        "nfl_games_2017 = pd.read_csv('https://raw.githubusercontent.com/mstefaniak10/dwd_nfl/master/nfl_games_2017.csv', low_memory=False)\n",
        "nfl_games_2017['Date'] = pd.to_datetime(nfl_games_2017['Date'], format='%m/%d/%y')\n",
        "nfl_games_2017['temperature'] = nfl_games_2017['temperature'].astype(int)\n",
        "\n",
        "# nfl stadiums dataset\n",
        "nfl_stadiums = pd.read_csv('https://raw.githubusercontent.com/mstefaniak10/dwd_nfl/master/nfl_stadiums.csv', low_memory=False)\n",
        "\n",
        "# for a lot of this analysis it makes sense to remove the home games of teams who play inside domes\n",
        "# Four fixed roof domes (Lions, Falcons, Saints & Vikings), plus four more with retractable roofs (Cowboys, Texans, Colts & Cardinals)\n",
        "nfl_outside_games_2017 = nfl_games_2017[~nfl_games_2017['home'].isin(['ARI', 'IND', 'DAL', 'ATL', 'DET', 'NO', 'HOU', 'MIN'])].copy()"
      ],
      "execution_count": 0,
      "outputs": []
    },
    {
      "metadata": {
        "id": "1rNko1iiujZl",
        "colab_type": "text"
      },
      "cell_type": "markdown",
      "source": [
        "Create bins of data for certain weather attributes"
      ]
    },
    {
      "metadata": {
        "id": "5oFaIZ4NZXAm",
        "colab_type": "code",
        "colab": {
          "autoexec": {
            "startup": false,
            "wait_interval": 0
          }
        }
      },
      "cell_type": "code",
      "source": [
        "# temperature bucket\n",
        "temp_bucket_labels = ['Freezing (-5 to 32)', 'Cold (33 to 55)', 'Mild (56 to 80)', 'Hot (81 to 100)']\n",
        "nfl_outside_games_2017['temp_bucket'] = pd.cut(nfl_outside_games_2017['temperature'], bins=[-5, 32, 55, 80, 100], labels=temp_bucket_labels)\n",
        "\n",
        "# wind gust bucket\n",
        "wind_gust_bucket_labels = ['Low Wind', 'Moderate Wind', 'High Wind', 'Very High Wind']\n",
        "nfl_outside_games_2017['wind_gust_bucket'] = pd.cut(nfl_outside_games_2017['wind_gust'], bins=[0, 3, 6, 10, 20], labels=wind_gust_bucket_labels)\n",
        "\n",
        "# pressure bucket\n",
        "pressure_bucket_labels = ['Low Pressure', 'Moderate Pressure', 'High Pressure']\n",
        "nfl_outside_games_2017['pressure_bucket'] = pd.cut(nfl_outside_games_2017['pressure'], bins=[1005, 1013, 1021, 1030], labels=pressure_bucket_labels)\n",
        "\n",
        "# precipitation bucket\n",
        "precip_bucket_labels = ['Low Precipitation (0 to .01)', 'High Precipitation (.01 to .02)']\n",
        "nfl_outside_games_2017['precip_bucket'] = pd.cut(nfl_outside_games_2017['precip_intensity'], bins=[0, 0.01, 0.02], labels=precip_bucket_labels)"
      ],
      "execution_count": 0,
      "outputs": []
    },
    {
      "metadata": {
        "id": "pGelrKuiuqB7",
        "colab_type": "text"
      },
      "cell_type": "markdown",
      "source": [
        "Merge games and play by play to add weather data"
      ]
    },
    {
      "metadata": {
        "id": "A3UUu1OSu85n",
        "colab_type": "code",
        "colab": {
          "autoexec": {
            "startup": false,
            "wait_interval": 0
          }
        }
      },
      "cell_type": "code",
      "source": [
        "outdoor_data_nfl = pd.merge(nfl_pbp_2017, nfl_outside_games_2017, on='GameID', how='inner')\n",
        "\n",
        "# print('Play by play \\n\\n%s \\n\\n' % nfl_pbp_2017.dtypes)\n",
        "# print('Game outcomes \\n\\n%s \\n\\n' % nfl_games_2017.dtypes)\n",
        "# print('Stadiums \\n\\n%s' % nfl_stadiums.dtypes)"
      ],
      "execution_count": 0,
      "outputs": []
    },
    {
      "metadata": {
        "id": "CDfePGh5jAEU",
        "colab_type": "text"
      },
      "cell_type": "markdown",
      "source": [
        "# What weather attribute has the greatest effect on total points scored per game?"
      ]
    },
    {
      "metadata": {
        "id": "H2uR-SXkotoL",
        "colab_type": "text"
      },
      "cell_type": "markdown",
      "source": [
        "Run a linear regression using different weather attributes as features (realizing this is not perfect as most weather attributes are not truly independent variables)"
      ]
    },
    {
      "metadata": {
        "id": "35DdLcjb72vj",
        "colab_type": "code",
        "colab": {
          "autoexec": {
            "startup": false,
            "wait_interval": 0
          }
        }
      },
      "cell_type": "code",
      "source": [
        "# fool around with some sklearn stuff, X = features, y = classifier\n",
        "\n",
        "from sklearn import linear_model, model_selection\n",
        "from sklearn.metrics import mean_squared_error, r2_score\n",
        "\n",
        "# add column for total score\n",
        "nfl_outside_games_2017['total_score'] = nfl_outside_games_2017['homescore'] + nfl_outside_games_2017['awayscore']\n",
        "\n",
        "nfl_data = nfl_outside_games_2017[['precip_intensity', 'temperature', 'dew_point', 'humidity', 'pressure', 'wind_speed', 'visibility', 'total_score']]\n",
        "\n",
        "X = nfl_data.drop('total_score', axis=1)\n",
        "\n",
        "# split into training/test data\n",
        "X_train, X_test, y_train, y_test = model_selection.train_test_split(X, nfl_data['total_score'], test_size=0.33, random_state=5)\n",
        "\n",
        "regr = linear_model.LinearRegression()\n",
        "\n",
        "# use linear regression to fit the data\n",
        "regr.fit(X_train, y_train)\n",
        "\n",
        "df_coefficients = pd.DataFrame(list(zip(X.columns, regr.coef_)), columns = ['features', 'estimatedCoefficients'])\n",
        "print(df_coefficients)\n",
        "coef_plot = df_coefficients.set_index('features').sort_values('estimatedCoefficients', ascending=False).plot(kind='bar', figsize=(15,10))\n",
        "coef_plot.set_xlabel('Weather feature')\n",
        "coef_plot.set_ylabel('Correlation Coefficient')\n",
        "coef_plot.set_title('Linear regression of weather attributes effect on total score')\n",
        "coef_plot"
      ],
      "execution_count": 0,
      "outputs": []
    },
    {
      "metadata": {
        "id": "ixvATl4cyTW8",
        "colab_type": "text"
      },
      "cell_type": "markdown",
      "source": [
        "Now make predictions using the test data set"
      ]
    },
    {
      "metadata": {
        "id": "YF6Rt13qxYTW",
        "colab_type": "code",
        "colab": {
          "autoexec": {
            "startup": false,
            "wait_interval": 0
          }
        }
      },
      "cell_type": "code",
      "source": [
        "nfl_total_score_y_pred = regr.predict(X_test)\n",
        "\n",
        "# Intercept\n",
        "print('Intercept: \\n', regr.intercept_)\n",
        "# The coefficients\n",
        "print('Coefficients: \\n', regr.coef_)\n",
        "# The mean squared error\n",
        "print(\"Mean squared error: %.2f\"\n",
        "      % mean_squared_error(y_test, nfl_total_score_y_pred))\n",
        "print(\"Root mean squared error: %.2f\"\n",
        "      % np.sqrt(mean_squared_error(y_test, nfl_total_score_y_pred)))\n",
        "# Explained variance score: 1 is perfect prediction\n",
        "print('Variance score: %.2f' % r2_score(y_test, nfl_total_score_y_pred))\n",
        "\n",
        "# plot test vs prediction\n",
        "plt.figure(figsize=(15,10))\n",
        "plt.scatter(y_test, nfl_total_score_y_pred)\n",
        "\n",
        "plt.xlabel('Score')\n",
        "plt.ylabel('Predicted Score')\n",
        "plt.title('Score vs Predicted Score')\n",
        "plt.show()"
      ],
      "execution_count": 0,
      "outputs": []
    },
    {
      "metadata": {
        "id": "MFA5jlcfynZV",
        "colab_type": "text"
      },
      "cell_type": "markdown",
      "source": [
        "There probably isn't enough data here which is why we have a high mean squared error. But the data still shows that precipitation intensity has the greatest effect on total score. And we are able to predict total scores within around 14.5 points of the actual total scores."
      ]
    },
    {
      "metadata": {
        "id": "UXcwunYl_oL_",
        "colab_type": "text"
      },
      "cell_type": "markdown",
      "source": [
        "# What weather attribute has the greatest effect on the length of passing attempts?"
      ]
    },
    {
      "metadata": {
        "id": "8I5A6bHX3_sK",
        "colab_type": "code",
        "colab": {
          "autoexec": {
            "startup": false,
            "wait_interval": 0
          }
        }
      },
      "cell_type": "code",
      "source": [
        "# select passing plays\n",
        "nfl_plays = outdoor_data_nfl[(outdoor_data_nfl['PlayType'] == 'Pass')].copy()\n",
        "\n",
        "y_column = 'AirYards'\n",
        "\n",
        "nfl_data = nfl_plays[['precip_intensity', 'temperature', 'dew_point', 'humidity', 'pressure', \n",
        "                                   'wind_speed', 'visibility', y_column]]\n",
        "\n",
        "X = nfl_data.drop(y_column, axis=1)\n",
        "\n",
        "X_train, X_test, y_train, y_test = model_selection.train_test_split(X, nfl_data[y_column], test_size=0.33, random_state=5)\n",
        "\n",
        "regr = linear_model.LinearRegression()\n",
        "\n",
        "regr.fit(X_train, y_train)\n",
        "\n",
        "df_coefficients = pd.DataFrame(list(zip(X.columns, regr.coef_)), columns = ['features', 'estimatedCoefficients'])\n",
        "print(df_coefficients)\n",
        "#df_coefficients.set_index('features').plot(kind='bar')\n",
        "\n",
        "# Make predictions using the testing set\n",
        "nfl_air_yards_y_pred = regr.predict(X_test)\n",
        "\n",
        "# Intercept\n",
        "print('Intercept: \\n', regr.intercept_)\n",
        "# The coefficients\n",
        "print('Coefficients: \\n', regr.coef_)\n",
        "# The mean squared error\n",
        "print(\"Mean squared error: %.2f\"\n",
        "      % mean_squared_error(y_test, nfl_air_yards_y_pred))\n",
        "print(\"Root mean squared error: %.2f\"\n",
        "      % np.sqrt(mean_squared_error(y_test, nfl_air_yards_y_pred)))\n",
        "# Explained variance score: 1 is perfect prediction\n",
        "print('Variance score: %.2f' % r2_score(y_test, nfl_air_yards_y_pred))\n",
        "\n",
        "plt.figure(figsize=(15,10))\n",
        "plt.scatter(y_test, nfl_air_yards_y_pred)\n",
        "\n",
        "plt.xlabel('Passing Length Attempt')\n",
        "plt.ylabel('Predicted Passing Length Attempt')\n",
        "plt.title('Passing Length Attempt vs Predicted Passing Length Attempt')\n",
        "plt.show()\n"
      ],
      "execution_count": 0,
      "outputs": []
    },
    {
      "metadata": {
        "id": "bH8X7_IGn-MI",
        "colab_type": "text"
      },
      "cell_type": "markdown",
      "source": [
        "This model predicts the length of passing yards attempt within ~10 yards"
      ]
    },
    {
      "metadata": {
        "id": "CT0cWNxeqXXw",
        "colab_type": "text"
      },
      "cell_type": "markdown",
      "source": [
        "# Visualize Map of NFL Stadiums by Conference"
      ]
    },
    {
      "metadata": {
        "id": "mpI-9FlnPwdb",
        "colab_type": "text"
      },
      "cell_type": "markdown",
      "source": [
        "Generate a plot showing the locations of various NFL team stadiums, separated by conference, with bubble size representing stadium capacity"
      ]
    },
    {
      "metadata": {
        "id": "FwdMkwSyPze2",
        "colab_type": "code",
        "colab": {
          "autoexec": {
            "startup": false,
            "wait_interval": 0
          }
        }
      },
      "cell_type": "code",
      "source": [
        "import matplotlib.patches as mpatches\n",
        "from mpl_toolkits.basemap import Basemap\n",
        "\n",
        "# define basemap colors\n",
        "land_color = '#f5f5f3'\n",
        "water_color = '#cdd2d4'\n",
        "coastline_color = '#666666'\n",
        "border_color = '#999999'\n",
        "afc_color = '#013369'\n",
        "nfc_color = '#D50A0A'\n",
        "\n",
        "map_width_m = 5000 * 1000\n",
        "map_height_m = 3500 * 1000\n",
        "fig_width_in = 17\n",
        "plt.figure(figsize=([fig_width_in, fig_width_in*(map_height_m/float(map_width_m))])) # make plot the same height:width ratio\n",
        "\n",
        "# Albers Conical Equal Area projection for US\n",
        "m = Basemap(ellps='WGS84', projection='aea', lat_1=33, lat_2=45, lon_0=-98.4, lat_0=39,\n",
        "            width=map_width_m, height=map_height_m, resolution='l', area_thresh=10000, fix_aspect=False)\n",
        "\n",
        "m.drawcoastlines(color=coastline_color)\n",
        "m.drawcountries(color=border_color)\n",
        "m.drawstates(color=border_color)\n",
        "m.fillcontinents(color=land_color, lake_color=water_color)\n",
        "m.drawmapboundary(fill_color=water_color)\n",
        "\n",
        "# project and plot our lat-long data with each bin getting its own color\n",
        "for conference, color in zip(['AFC', 'NFC'], [afc_color, nfc_color]):\n",
        "    subset = nfl_stadiums[nfl_stadiums['conference'] == conference]\n",
        "    sizes = subset['capacity'] / 100\n",
        "    x, y = m(subset.longitude.values, subset.latitude.values)\n",
        "    m.scatter(x=x, y=y, s=sizes, color=color, edgecolor='#555555', alpha=0.6, zorder=3)\n",
        "\n",
        "afc_patch = mpatches.Patch(fc=afc_color, alpha=0.7, ec='w', label='AFC Team')\n",
        "nfc_patch = mpatches.Patch(fc=nfc_color, alpha=0.7, ec='w', label='NFC Team')\n",
        "legend = plt.legend(handles=[afc_patch, nfc_patch], loc=3, prop={'size':14})\n",
        "\n",
        "plt.title('AFC & NFC Stadium Locations')\n",
        "plt.show()"
      ],
      "execution_count": 0,
      "outputs": []
    },
    {
      "metadata": {
        "id": "g6L3ePerkk4Q",
        "colab_type": "text"
      },
      "cell_type": "markdown",
      "source": [
        "A noticeable takeaway from this plot is how much smaller the San Diego Chargers stadium is compared to every other team. It turns out they are currently playing in a temporary stadium until their new permament stadium in Los Angeles is completed. Another point of note is the darker red circle in NYC due to the fact that the Giants and Jets play their home games at the same stadium."
      ]
    },
    {
      "metadata": {
        "id": "lgT-G01nupwB",
        "colab_type": "text"
      },
      "cell_type": "markdown",
      "source": [
        "# Generate density plot and histogram of stadium capacity"
      ]
    },
    {
      "metadata": {
        "id": "V0llsXE2rflA",
        "colab_type": "code",
        "colab": {
          "autoexec": {
            "startup": false,
            "wait_interval": 0
          }
        }
      },
      "cell_type": "code",
      "source": [
        "plt.figure(figsize=(15,10))\n",
        "sns.distplot(nfl_stadiums['capacity'], \n",
        "             #bins=8, # let seaborn figure it out\n",
        "             hist_kws={'edgecolor':'black'},\n",
        "             kde_kws={'linewidth': 4}\n",
        "        )"
      ],
      "execution_count": 0,
      "outputs": []
    },
    {
      "metadata": {
        "id": "IxHpkKYxtSVt",
        "colab_type": "text"
      },
      "cell_type": "markdown",
      "source": [
        "The average stadium capacity in the NFL is around 70,000, with a few notable outliers"
      ]
    },
    {
      "metadata": {
        "id": "H_sOnE77Bb5C",
        "colab_type": "text"
      },
      "cell_type": "markdown",
      "source": [
        "# How does temperature affect attendance?"
      ]
    },
    {
      "metadata": {
        "id": "ftKhXGQQBgSV",
        "colab_type": "code",
        "colab": {
          "autoexec": {
            "startup": false,
            "wait_interval": 0
          }
        }
      },
      "cell_type": "code",
      "source": [
        "# Join with stadium dataframe so we can create attendance percent full column\n",
        "games_with_stadiums = pd.merge(nfl_outside_games_2017, nfl_stadiums, how='inner', left_on='home', right_on='city')\n",
        "games_with_stadiums['attendance_percent_full'] = ((games_with_stadiums['attendance'] / games_with_stadiums['capacity']) * 100).astype(int)\n",
        "\n",
        "# there are some outlier percent fulls because the games were played in London, so let's get rid of those\n",
        "games_with_stadiums = games_with_stadiums[games_with_stadiums['attendance_percent_full'] < 105]\n",
        "\n",
        "# create pivot\n",
        "pivot = pd.pivot_table(\n",
        "    data = games_with_stadiums, \n",
        "    index = 'temp_bucket', # specifies the rows\n",
        "    values = 'attendance_percent_full',  # specifies the content of the cells\n",
        "    aggfunc = 'mean' # we ask to take average of temperature values\n",
        ")\n",
        "plot = pivot.plot(figsize=(15,10), colormap = 'RdBu')\n",
        "plot.set_xticks([0, 1, 2, 3])\n",
        "plot.set_xticklabels(temp_bucket_labels)\n",
        "plot.set_xlabel('Temperature')\n",
        "plot.set_ylabel('Attendance Percent Full')\n",
        "plot.set_title('NFL Outdoor Stadiums Average Percent Capacity by Temperature')\n",
        "plot\n"
      ],
      "execution_count": 0,
      "outputs": []
    },
    {
      "metadata": {
        "id": "v2Rf8xtMcPcU",
        "colab_type": "text"
      },
      "cell_type": "markdown",
      "source": [
        "NFL fans are a hardy bunch! On average, stadiums are filled closer to capacity when the temperature is colder. This could be explained by the fact that the NFL season starts in late summer and finishes in early winter. So fans may be attending games more often later in the season when the temperature is colder, but the stakes are higher."
      ]
    },
    {
      "metadata": {
        "id": "VfvVjD1HaUxy",
        "colab_type": "text"
      },
      "cell_type": "markdown",
      "source": [
        "\n",
        "\n",
        "# How does wind speed affect field goals?"
      ]
    },
    {
      "metadata": {
        "id": "h2yOF47PaZkC",
        "colab_type": "code",
        "colab": {
          "autoexec": {
            "startup": false,
            "wait_interval": 0
          }
        }
      },
      "cell_type": "code",
      "source": [
        "# get all the plays with field goal attempts\n",
        "field_goal_plays = outdoor_data_nfl[outdoor_data_nfl['FieldGoalResult'].isin(['Good', 'No Good'])].copy()\n",
        "# convert makes and misses to binary integers\n",
        "field_goal_plays['FieldGoalResult'] = field_goal_plays['FieldGoalResult'].replace({'Good': 1, 'No Good': 0})\n",
        "\n",
        "# bucket field goals by attempt length\n",
        "field_goal_bucket_labels = ['Very Short (15 to 29)', 'Short (30 to 39)', 'Medium (40 to 49)', 'Long (50 to 70)']\n",
        "field_goal_plays['field_goal_bucket'] = pd.cut(field_goal_plays['FieldGoalDistance'], bins=[15, 29, 39, 49, 70], labels=field_goal_bucket_labels)\n",
        "\n",
        "# create pivot table\n",
        "pivot = pd.pivot_table(\n",
        "    data = field_goal_plays, \n",
        "    index = 'wind_gust_bucket', \n",
        "    columns = 'field_goal_bucket', \n",
        "    values = 'FieldGoalResult',  \n",
        "    aggfunc = 'mean'\n",
        ") * 100 # multiply by 100 to convert to percent\n",
        "plot = pivot.plot(kind='bar', figsize=(20,10), colormap = 'RdBu')\n",
        "plot.set_xlabel('Wind Speed')\n",
        "plot.set_ylabel('Percent Made')\n",
        "plot.set_title('Field Goal Percentage Made at Different Wind Speeds')\n",
        "plot\n"
      ],
      "execution_count": 0,
      "outputs": []
    },
    {
      "metadata": {
        "id": "6rWC0P9yOnHQ",
        "colab_type": "text"
      },
      "cell_type": "markdown",
      "source": [
        "The interesting takeaway here is that the percentage made of longer distance field goal attempts actually increases on windy game days. This makes sense as kickers are more accurate on long field goal trys when they a have strong wind at their back, and generally won't attempt long field goals without favorable wind"
      ]
    },
    {
      "metadata": {
        "id": "biaqXx4rbCfg",
        "colab_type": "text"
      },
      "cell_type": "markdown",
      "source": [
        "# How does temperature affect field goals?"
      ]
    },
    {
      "metadata": {
        "id": "rgjXW_2ta7ls",
        "colab_type": "code",
        "colab": {
          "autoexec": {
            "startup": false,
            "wait_interval": 0
          }
        }
      },
      "cell_type": "code",
      "source": [
        "pivot = pd.pivot_table(\n",
        "    data = field_goal_plays,\n",
        "    index = 'temp_bucket',\n",
        "    columns = 'field_goal_bucket',\n",
        "    values = 'FieldGoalResult',\n",
        "    aggfunc = 'mean'\n",
        ") * 100 # multiply by 100 to convert to percent\n",
        "plot = pivot.plot(kind='bar', figsize=(20,10), colormap = 'RdBu')\n",
        "plot.set_xlabel('Temperature')\n",
        "plot.set_ylabel('Percent Made')\n",
        "plot.set_title('Field Goal Percentage Made at Different Temperature')\n",
        "plot"
      ],
      "execution_count": 0,
      "outputs": []
    },
    {
      "metadata": {
        "id": "5mKcVLhk2xv2",
        "colab_type": "text"
      },
      "cell_type": "markdown",
      "source": [
        "Temperature seems to have no noticeable affect on field goal percentage"
      ]
    },
    {
      "metadata": {
        "id": "5d6DwbLak8Xw",
        "colab_type": "text"
      },
      "cell_type": "markdown",
      "source": [
        "# **What are Tom Brady's Optimal Weather Conditions?**"
      ]
    },
    {
      "metadata": {
        "id": "cJcILBac0mMu",
        "colab_type": "text"
      },
      "cell_type": "markdown",
      "source": [
        "See the Deflate controversy from 2014-15. Tom Brady was accused of deflating footballs to gain an advantage. We want to see if the outside air pressure affected his game at all during the most recent season."
      ]
    },
    {
      "metadata": {
        "id": "ooh6Jpa8kr8u",
        "colab_type": "code",
        "colab": {
          "autoexec": {
            "startup": false,
            "wait_interval": 0
          }
        }
      },
      "cell_type": "code",
      "source": [
        "# get all plays from 2017 season where Tom Brady threw a pass\n",
        "tom_brady_passes = nfl_pbp_2017[(nfl_pbp_2017['PassAttempt'] == 1) & (nfl_pbp_2017['Passer'] == 'T.Brady')].copy()\n",
        "\n",
        "# convert makes and misses to binary integers\n",
        "tom_brady_passes['PassOutcome'] = tom_brady_passes['PassOutcome'].replace({'Complete': 1, 'Incomplete Pass': 0})\n",
        "\n",
        "# merge weather data\n",
        "tom_brady_passes = pd.merge(tom_brady_passes, nfl_outside_games_2017, how = 'inner', on = 'GameID')\n",
        "\n",
        "# Evenly group pressure attribute into 3 buckets using qcut\n",
        "tom_brady_passes['pressure_bucket_qcut'] = pd.qcut(tom_brady_passes['pressure'], 3, labels=pressure_bucket_labels)\n",
        "\n",
        "#create pivot table\n",
        "pivot = pd.pivot_table(\n",
        "    data = tom_brady_passes, \n",
        "    index = 'pressure_bucket_qcut',  \n",
        "    values = 'PassOutcome',  \n",
        "    aggfunc = 'mean'\n",
        ") * 100 # multiply by 100 to convert to percent\n",
        "\n",
        "plot = pivot.plot(kind='bar', figsize=(15,8), colormap = 'RdBu')\n",
        "plot.set_xlabel('Pressure (mbar)')\n",
        "plot.set_ylabel('Completion Percentage')\n",
        "plot.set_title('Tom Brady Completion Percentage at Different Pressures')\n",
        "plot"
      ],
      "execution_count": 0,
      "outputs": []
    },
    {
      "metadata": {
        "id": "jeSJqoJXlXT8",
        "colab_type": "text"
      },
      "cell_type": "markdown",
      "source": [
        "We can clearly see that Tom Brady has a nearly identical completion percentage whether it's high or low atmospheric pressure at gametime. Therefore, he gains no advantage from footballs being overly inflated or deflated. Anyobdy with a brain knew DeflateGate was a witchunt, and we have the data here to prove it."
      ]
    },
    {
      "metadata": {
        "id": "H9A8iSsHtZnw",
        "colab_type": "text"
      },
      "cell_type": "markdown",
      "source": [
        "# Does temperature affect home team advantage?"
      ]
    },
    {
      "metadata": {
        "id": "gOnUuAx3vnnK",
        "colab_type": "code",
        "colab": {
          "autoexec": {
            "startup": false,
            "wait_interval": 0
          }
        }
      },
      "cell_type": "code",
      "source": [
        "nfl_outside_games_2017['score_difference'] = nfl_outside_games_2017['homescore'] - nfl_outside_games_2017['awayscore']\n",
        "#nfl_outside_games_2017.set_index('Date')['total_score'].resample('1m').mean().plot()\n",
        "\n",
        "pivot = pd.pivot_table(\n",
        "    data = nfl_outside_games_2017,\n",
        "    index = 'Date',\n",
        "    values = ['score_difference', 'temperature'],\n",
        "    aggfunc = 'mean'\n",
        ")\n",
        "pivot = pivot.resample('1m').mean()\n",
        "plot = pivot.plot(kind='line', secondary_y='temperature', figsize=(20,10), colormap = 'RdBu')\n",
        "plot.set_xlabel('Month')\n",
        "plot.set_ylabel('Average Home Team Margin of Victory')\n",
        "plot.set_title('Home Field Advantage by Month with Temperature Change')\n",
        "plot"
      ],
      "execution_count": 0,
      "outputs": []
    },
    {
      "metadata": {
        "id": "HEyged4f1ZWl",
        "colab_type": "text"
      },
      "cell_type": "markdown",
      "source": [
        "It seems that colder temperatures neutralize the home team advantage in the NFL"
      ]
    },
    {
      "metadata": {
        "id": "2ZFIk4XplOVZ",
        "colab_type": "text"
      },
      "cell_type": "markdown",
      "source": [
        "### **How does precipitation (rain, snow) affect % of Pass vs % of Run Plays?**"
      ]
    },
    {
      "metadata": {
        "id": "l7dlG1dcuZml",
        "colab_type": "code",
        "colab": {
          "autoexec": {
            "startup": false,
            "wait_interval": 0
          }
        }
      },
      "cell_type": "code",
      "source": [
        "pivot_pie = pd.pivot_table(outdoor_data_nfl,index=[\"GameID\"],values=[\"PassAttempt\", \"RushAttempt\"],\n",
        "                                   aggfunc=np.sum)\n",
        "pivot_pie\n",
        "total = pivot_pie.sum(axis='index')\n",
        "total\n",
        "plot_total = total.plot(kind='pie',\n",
        "               figsize=(8,8),\n",
        "               colormap = 'RdBu'\n",
        "               )\n",
        "plot_total.set_title('The NFL is a Passing League!\\n58% Passing, 42% Rushing')\n",
        "plot_total.legend(bbox_to_anchor=(1, 0.75))\n",
        "plot_total.set_ylabel('Play Selection')\n",
        "plot_total"
      ],
      "execution_count": 0,
      "outputs": []
    },
    {
      "metadata": {
        "id": "pJgiZfvA3HmY",
        "colab_type": "text"
      },
      "cell_type": "markdown",
      "source": [
        "Before taking weather into account, the NFL is clearly a pass happy league"
      ]
    },
    {
      "metadata": {
        "id": "_C2nc6rVlN0v",
        "colab_type": "code",
        "colab": {
          "autoexec": {
            "startup": false,
            "wait_interval": 0
          }
        }
      },
      "cell_type": "code",
      "source": [
        "column_list = [\"Date\" , \"GameID\", \"play_id\" , \"desc\", \"RushAttempt\" , \"PassAttempt\"]\n",
        "\n",
        "pivot1 = pd.pivot_table(outdoor_data_nfl,index=[\"HomeTeam\",\"GameID\",\"weather_summary\", \n",
        "                                   \"precip_intensity\", \"wind_gust\"],values=[\"PassAttempt\", \"RushAttempt\"],\n",
        "                                   aggfunc=np.sum)\n",
        "pivot1"
      ],
      "execution_count": 0,
      "outputs": []
    },
    {
      "metadata": {
        "id": "dfWEuXmf1ZzY",
        "colab_type": "text"
      },
      "cell_type": "markdown",
      "source": [
        "## Impact of weather type on % pass vs rush"
      ]
    },
    {
      "metadata": {
        "id": "38OAE67i1RRF",
        "colab_type": "code",
        "colab": {
          "autoexec": {
            "startup": false,
            "wait_interval": 0
          }
        }
      },
      "cell_type": "code",
      "source": [
        "\n",
        "column_list = [\"Date\" , \"GameID\", \"play_id\" , \"desc\", \"RushAttempt\" , \"PassAttempt\"]\n",
        "pivot_summary = pd.pivot_table(outdoor_data_nfl,index=[\"weather_summary\", \n",
        "                                   ],values=[\"PassAttempt\", \"RushAttempt\"],\n",
        "                                   aggfunc=np.sum)\n",
        "pivot_summary\n",
        "dfp_norm3 = pivot_summary.div(pivot_summary.sum(axis='columns'), axis='index' ).sort_index()\n",
        "dfp_norm3\n",
        "plot_weather = dfp_norm3.plot(kind = \"bar\",\n",
        "               figsize=(12,8),\n",
        "               colormap = 'RdBu'\n",
        "               )\n",
        "plot_weather.set_title('NFL Weather Impact on Play Selection')\n",
        "plot_weather.set_ylabel('Play Selection')\n",
        "plot_weather.set_xlabel('Weather Summary')\n",
        "plot_weather.legend(bbox_to_anchor=(1, 0.5))\n",
        "plot_weather"
      ],
      "execution_count": 0,
      "outputs": []
    },
    {
      "metadata": {
        "id": "p5ChOuLR3S3x",
        "colab_type": "text"
      },
      "cell_type": "markdown",
      "source": [
        "Sleet seems to be the only type of weather that will convice teams to run the ball as often as they pass it"
      ]
    },
    {
      "metadata": {
        "id": "Sh-Xjoug1dFm",
        "colab_type": "text"
      },
      "cell_type": "markdown",
      "source": [
        "## Impact of Tempurature on % pass vs. % rush"
      ]
    },
    {
      "metadata": {
        "id": "xLmv40HwLFOT",
        "colab_type": "code",
        "colab": {
          "autoexec": {
            "startup": false,
            "wait_interval": 0
          }
        }
      },
      "cell_type": "code",
      "source": [
        "\n",
        "pivot_temp = pd.pivot_table(outdoor_data_nfl,index=[\"temp_bucket\", \n",
        "                                   ],values=[\"PassAttempt\", \"RushAttempt\"],aggfunc=np.sum)\n",
        "pivot_temp\n",
        "dfp_norm4 = pivot_temp.div(pivot_temp.sum(axis='columns'), axis='index' ).sort_index()\n",
        "dfp_norm4\n",
        "plot_temp = dfp_norm4.plot(kind = \"bar\",\n",
        "               figsize=(12,8),\n",
        "               colormap = 'RdBu'\n",
        "               )\n",
        "plot_temp.set_title('NFL Temperature Impact on Play Selection')\n",
        "plot_temp.set_ylabel('Play Selection')\n",
        "plot_temp.set_xlabel('Temperature')\n",
        "plot_temp.legend(bbox_to_anchor=(1, 0.5))\n",
        "plot_temp"
      ],
      "execution_count": 0,
      "outputs": []
    },
    {
      "metadata": {
        "id": "ht_cTxOp3aID",
        "colab_type": "text"
      },
      "cell_type": "markdown",
      "source": [
        "Temperature has no impact on play selection. Even if the temperature is freezing, NFL teams are passing the ball"
      ]
    },
    {
      "metadata": {
        "id": "FznzuwEW1gAi",
        "colab_type": "text"
      },
      "cell_type": "markdown",
      "source": [
        "## Impact of Precipitation on % pass vs. % rush"
      ]
    },
    {
      "metadata": {
        "id": "PJis2rbdRJw1",
        "colab_type": "code",
        "colab": {
          "autoexec": {
            "startup": false,
            "wait_interval": 0
          }
        }
      },
      "cell_type": "code",
      "source": [
        "pivot_precip = pd.pivot_table(outdoor_data_nfl,index=[\"precip_bucket\", \n",
        "                                   ],values=[\"PassAttempt\", \"RushAttempt\"],aggfunc=np.sum)\n",
        "pivot_precip\n",
        "dfp_norm5 = pivot_precip.div(pivot_precip.sum(axis='columns'), axis='index' ).sort_index()\n",
        "plot_precip = dfp_norm5.plot(kind = \"barh\",\n",
        "               figsize=(12,8),\n",
        "               colormap = 'RdBu'\n",
        "               )\n",
        "plot_precip.set_title('NFL Precipitation Impact on on Play Selection')\n",
        "plot_precip.set_ylabel('Precipitation')\n",
        "plot_precip.set_xlabel('Play Selection')\n",
        "plot_precip.legend(bbox_to_anchor=(1, 0.75))\n",
        "plot_precip"
      ],
      "execution_count": 0,
      "outputs": []
    },
    {
      "metadata": {
        "id": "Ihgp1cx43kMi",
        "colab_type": "text"
      },
      "cell_type": "markdown",
      "source": [
        "More intense precipitation brings the ratio of pass to rush slightly closer to even"
      ]
    },
    {
      "metadata": {
        "id": "yvefLXws1lUp",
        "colab_type": "text"
      },
      "cell_type": "markdown",
      "source": [
        "## Impact of Wind on % pass vs. % rush"
      ]
    },
    {
      "metadata": {
        "id": "UajvDmzOT3eQ",
        "colab_type": "code",
        "colab": {
          "autoexec": {
            "startup": false,
            "wait_interval": 0
          }
        }
      },
      "cell_type": "code",
      "source": [
        "pivot_wind = pd.pivot_table(outdoor_data_nfl,index=[\"wind_gust_bucket\", \n",
        "                                   ],values=[\"PassAttempt\", \"RushAttempt\"],aggfunc=np.sum)\n",
        "pivot_wind\n",
        "dfp_norm6 = pivot_wind.div(pivot_wind.sum(axis='columns'), axis='index' ).sort_index()\n",
        "plot_wind = dfp_norm6.plot(kind = \"bar\",\n",
        "               figsize=(12,8),\n",
        "               colormap = 'RdBu'\n",
        "               )\n",
        "plot_wind.set_title('NFL Wind Impact on Play Selection')\n",
        "plot_wind.set_ylabel('Play Selection')\n",
        "plot_wind.set_xlabel('Wind Speed (MPH)')\n",
        "plot_wind.legend(bbox_to_anchor=(1, 0.75))\n",
        "plot_wind"
      ],
      "execution_count": 0,
      "outputs": []
    },
    {
      "metadata": {
        "id": "whcNMNfN3rDB",
        "colab_type": "text"
      },
      "cell_type": "markdown",
      "source": [
        "Wind speed has very little impact on play selection"
      ]
    },
    {
      "metadata": {
        "id": "OJJSs2dm1n95",
        "colab_type": "text"
      },
      "cell_type": "markdown",
      "source": [
        "## Weather Impact on Home Field Advantage"
      ]
    },
    {
      "metadata": {
        "id": "ggf_YNhdvFju",
        "colab_type": "code",
        "colab": {
          "autoexec": {
            "startup": false,
            "wait_interval": 0
          }
        }
      },
      "cell_type": "code",
      "source": [
        "pivot = pd.pivot_table(\n",
        "    data = nfl_outside_games_2017,  # pulls data from outside games data set\n",
        "    index = 'weather_summary',    # uses weather summary as x axis value\n",
        "    values = [\"homescore\",\"awayscore\"],   # uses home team and away team as column values\n",
        "    aggfunc = 'mean'   # finds average of scores, makes more sense than sum\n",
        ") \n",
        "\n",
        "#plots chart\n",
        "plot = pivot.plot(kind='bar', figsize=(20,10),colormap = 'RdBu') \n",
        "plot.set_xlabel('Weather Summary')\n",
        "plot.set_ylabel('Mean Final Score')\n",
        "plot.set_title('Weather Impact on Score')\n",
        "plot"
      ],
      "execution_count": 0,
      "outputs": []
    },
    {
      "metadata": {
        "id": "YKDz42AW3xDp",
        "colab_type": "text"
      },
      "cell_type": "markdown",
      "source": [
        "Humidity is the noticeable factor here, with home teams enjoying a clear advantage when the weather is humid"
      ]
    },
    {
      "metadata": {
        "id": "qNiTt_uh4EKi",
        "colab_type": "text"
      },
      "cell_type": "markdown",
      "source": [
        "## Weather Impact on Total Score"
      ]
    },
    {
      "metadata": {
        "id": "WONTSBLOpMJC",
        "colab_type": "code",
        "colab": {
          "autoexec": {
            "startup": false,
            "wait_interval": 0
          }
        }
      },
      "cell_type": "code",
      "source": [
        "nfl_outside_games_2017['total_score'] = nfl_outside_games_2017['homescore'] + nfl_outside_games_2017['awayscore']\n",
        "\n",
        "pivot = pd.pivot_table(\n",
        "    data = nfl_outside_games_2017,  # pulls data from outside games data set\n",
        "    index = 'weather_summary',    # uses weather summary as x axis value\n",
        "    values = [\"total_score\"],   # uses home team and away team as column values\n",
        "    aggfunc = 'mean'   #finds average of scores, makes more sense than sum\n",
        ") \n",
        "\n",
        "#plots chart\n",
        "plot = pivot.plot(kind='bar', figsize=(20,10), colormap = 'RdBu') \n",
        "plot.set_xlabel('Weather Summary')\n",
        "plot.set_ylabel('Mean Final Score')\n",
        "plot.set_title('Weather Impact on Score')\n",
        "plot"
      ],
      "execution_count": 0,
      "outputs": []
    },
    {
      "metadata": {
        "id": "GBzuyj3p4Gln",
        "colab_type": "text"
      },
      "cell_type": "markdown",
      "source": [
        "Interestingly, rainy games had high total scores. We suspect if we pulled in data from from additional seasons this would not hold true."
      ]
    },
    {
      "metadata": {
        "id": "Jt523ACCbQk5",
        "colab_type": "text"
      },
      "cell_type": "markdown",
      "source": [
        "# Appendix"
      ]
    },
    {
      "metadata": {
        "id": "ZPqgvp5NbUmv",
        "colab_type": "text"
      },
      "cell_type": "markdown",
      "source": [
        "Below is how we added weather data to the 2017 game outcome dataset. We did not want to make repeated api calls to the weather api for historical data, so we saved this output as a new csv, uploaded it to GitHub and loaded the file directly in our analysis above"
      ]
    },
    {
      "metadata": {
        "id": "S6CO__5lbdHB",
        "colab_type": "code",
        "colab": {
          "autoexec": {
            "startup": false,
            "wait_interval": 0
          }
        }
      },
      "cell_type": "code",
      "source": [
        "# nfl game outcome dataset\n",
        "nfl_games_2017 = pd.read_csv('https://github.com/ryurko/nflscrapR-data/raw/master/data/season_games/games_2017.csv', low_memory=False)\n",
        "\n",
        "# nfl stadiums dataset\n",
        "nfl_stadiums = pd.read_csv('https://raw.githubusercontent.com/mstefaniak10/dwd_nfl/master/nfl_stadiums.csv', low_memory=False)\n",
        "\n",
        "# join datasets\n",
        "games_with_locations = pd.merge(nfl_games_2017, nfl_stadiums, how='inner', left_on='home', right_on='city')\n",
        "\n",
        "weather_summary = []\n",
        "weather_icon = []\n",
        "precip_intensity = []\n",
        "precip_probability = []\n",
        "temperature = []\n",
        "apparent_temperature = []\n",
        "dew_point = []\n",
        "humidity = []\n",
        "pressure = []\n",
        "wind_speed = []\n",
        "wind_gust = []\n",
        "wind_bearing = []\n",
        "cloud_cover = []\n",
        "visibility = []\n",
        "\n",
        "dark_sky_url = 'https://api.darksky.net/forecast/50bd3162bceb1bdb23894821419834b6/%s,%s,%s?exclude=hourly,daily,flags'\n",
        "\n",
        "for index, row in games_with_locations.iterrows():\n",
        "    game_date = datetime.strptime(row['date'], \"%Y-%m-%d\")\n",
        "    # estimate games played around 4pm eastern\n",
        "    game_date += timedelta(hours=15)\n",
        "    full_url = dark_sky_url % (row['latitude'], row['longitude'], int(game_date.timestamp()))\n",
        "    \n",
        "    # make api request to dark sky\n",
        "    historical_weather_data = requests.get(full_url).json()['currently']\n",
        "    \n",
        "    # add each game weather data to list\n",
        "    weather_summary.append(historical_weather_data['summary'])\n",
        "    weather_icon.append(historical_weather_data['icon'])\n",
        "    precip_intensity.append(historical_weather_data['precipIntensity'])\n",
        "    precip_probability.append(historical_weather_data['precipProbability'])\n",
        "    temperature.append(historical_weather_data['temperature'])\n",
        "    apparent_temperature.append(historical_weather_data['apparentTemperature'])\n",
        "    dew_point.append(historical_weather_data['dewPoint'])\n",
        "    humidity.append(historical_weather_data['humidity'])\n",
        "    pressure.append(historical_weather_data['pressure'])\n",
        "    wind_speed.append(historical_weather_data['windSpeed'])\n",
        "    wind_gust.append(historical_weather_data['windGust'])\n",
        "    wind_bearing.append(historical_weather_data['windBearing'])\n",
        "    cloud_cover.append(historical_weather_data['cloudCover'])\n",
        "    visibility.append(historical_weather_data['visibility'])\n",
        "\n",
        "# add columns to dataframe\n",
        "nfl_games_2017['weather_summary'] = weather_summary\n",
        "nfl_games_2017['weather_icon'] = weather_icon\n",
        "nfl_games_2017['precip_intensity'] = precip_intensity\n",
        "nfl_games_2017['precip_probability'] = precip_probability\n",
        "nfl_games_2017['temperature'] = temperature\n",
        "nfl_games_2017['apparent_temperature'] = apparent_temperature\n",
        "nfl_games_2017['dew_point'] = dew_point\n",
        "nfl_games_2017['humidity'] = humidity\n",
        "nfl_games_2017['pressure'] = pressure\n",
        "nfl_games_2017['wind_speed'] = wind_speed\n",
        "nfl_games_2017['wind_gust'] = wind_gust\n",
        "nfl_games_2017['wind_bearing'] = wind_bearing\n",
        "nfl_games_2017['cloud_cover'] = cloud_cover\n",
        "nfl_games_2017['visibility'] = visibility\n",
        "\n",
        "# save to file\n",
        "nfl_games_2017.to_csv('nfl_games_2017.csv')\n"
      ],
      "execution_count": 0,
      "outputs": []
    },
    {
      "metadata": {
        "id": "GU9Jp-6W9q7O",
        "colab_type": "text"
      },
      "cell_type": "markdown",
      "source": [
        "Below is how we added attendance data to the game file"
      ]
    },
    {
      "metadata": {
        "id": "AXPKNbL-9uIr",
        "colab_type": "code",
        "colab": {
          "autoexec": {
            "startup": false,
            "wait_interval": 0
          }
        }
      },
      "cell_type": "code",
      "source": [
        "team_abbr_map = {\n",
        "    'Bears': 'CHI',\n",
        "    'Bengals': 'CIN',\n",
        "    'Bills': 'BUF',\n",
        "    'Broncos': 'DEN',\n",
        "    'Browns': 'CLE',\n",
        "    'Buccaneers': 'TB',\n",
        "    'Cardinals': 'ARI',\n",
        "    'Chargers': 'LAC',\n",
        "    'Chiefs': 'KC',\n",
        "    'Colts': 'IND',\n",
        "    'Cowboys': 'DAL',\n",
        "    'Dolphins': 'MIA',\n",
        "    'Eagles': 'PHI',\n",
        "    'Falcons': 'ATL',\n",
        "    'Forty-Niners': 'SF',\n",
        "    'Giants': 'NYG',\n",
        "    'Jaguars': 'JAX',\n",
        "    'Jets': 'NYJ',\n",
        "    'Lions': 'DET',\n",
        "    'Packers': 'GB',\n",
        "    'Panthers': 'CAR',\n",
        "    'Patriots': 'NE',\n",
        "    'Raiders': 'OAK',\n",
        "    'Rams': 'LA',\n",
        "    'Ravens': 'BAL',\n",
        "    'Redskins': 'WAS',\n",
        "    'Saints': 'NO',\n",
        "    'Seahawks': 'SEA',\n",
        "    'Steelers': 'PIT',\n",
        "    'Texans': 'HOU',\n",
        "    'Titans': 'TEN',\n",
        "    'Vikings': 'MIN',\n",
        "}\n",
        "\n",
        "\n",
        "nfl_games_2017 = pd.read_csv('https://raw.githubusercontent.com/mstefaniak10/dwd_nfl/master/nfl_games_2017.csv', low_memory=False)\n",
        "\n",
        "nfl_attendance_2017 = pd.read_csv('https://raw.githubusercontent.com/mstefaniak10/dwd_nfl/master/nfl_attendance_2017.csv', low_memory=False)\n",
        "\n",
        "def get_short_name(input):\n",
        "    return input.split(' ')[-1]\n",
        "  \n",
        "nfl_attendance_2017['short_name'] = nfl_attendance_2017['Tm'].map(get_short_name)\n",
        "nfl_attendance_2017['team'] = nfl_attendance_2017['short_name'].map(team_abbr_map)\n",
        "\n",
        "team_game_counter_dict = {}\n",
        "attendance_list = []\n",
        "\n",
        "def find_attendance(home_team):\n",
        "    team_df = nfl_attendance_2017[nfl_attendance_2017['team'] == home_team]\n",
        "    assert team_df.shape[0] == 1\n",
        "    for column in list(team_df):\n",
        "        dict_key = home_team + '_' + column\n",
        "        if not 'Week' in column or dict_key in team_game_counter_dict:\n",
        "            continue\n",
        "        value = team_df.iloc[0][column]\n",
        "        if '*' in value or value == 'Bye':\n",
        "            continue\n",
        "        value = int(value)\n",
        "        team_game_counter_dict[dict_key] = value\n",
        "        return value\n",
        "\n",
        "for index, row in nfl_games_2017.iterrows():\n",
        "    home_team = row['home']\n",
        "    attendance = find_attendance(home_team)\n",
        "    attendance_list.append(attendance)\n",
        "\n",
        "nfl_games_2017['attendance'] = attendance_list\n",
        "nfl_games_2017.to_csv('/Users/mstefaniak/repos/dwd_nfl/nfl_games_2017.csv')"
      ],
      "execution_count": 0,
      "outputs": []
    }
  ]
}